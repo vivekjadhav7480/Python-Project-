{
  "nbformat": 4,
  "nbformat_minor": 0,
  "metadata": {
    "colab": {
      "provenance": []
    },
    "kernelspec": {
      "name": "python3",
      "display_name": "Python 3"
    },
    "language_info": {
      "name": "python"
    }
  },
  "cells": [
    {
      "cell_type": "code",
      "execution_count": null,
      "metadata": {
        "id": "EsomTDUgyT_e"
      },
      "outputs": [],
      "source": [
        "#pandas library is a popular, open-source tool for data analysis and manipulation in Python.\n",
        "#The pandas library in Python contains a vast array of methods designed for data manipulation, analysis, and exploration.\n",
        "#These methods can be broadly categorized based on their purpose."
      ]
    },
    {
      "cell_type": "code",
      "source": [
        "#1.Data Creation and Initialization-Create a DataFrame from a dictionary, list, or other data structures.\n",
        "#2.Input/Output Operations- to read and save data\n",
        "#3.Data Inspection-carry out various inspection in given data like rows,columbs etc..\n",
        "#4.Data Selection- select particular row columbs\n",
        "#5.Data Cleaning-handeling missind datas renaiming etc..\n",
        "#6.Data Transformation-create new columbs / apply function to it/sorting...\n",
        "#7.Aggregation and Grouping- carry operations / grouping..\n",
        "#8.Reshaping Data-reshaping given data by our way\n",
        "#9.Statistical Methods-matrices / calculations\n",
        "#10.Visualization- bar and scatter plot\n",
        "# and many more...."
      ],
      "metadata": {
        "id": "UTNGCdagygdx"
      },
      "execution_count": null,
      "outputs": []
    },
    {
      "cell_type": "code",
      "source": [
        "#creating a pandas library:"
      ],
      "metadata": {
        "id": "Gr1gNPoY4FpC"
      },
      "execution_count": null,
      "outputs": []
    },
    {
      "cell_type": "code",
      "source": [
        "class SimpleDataFrame:\n",
        "  def __init__(self,data):    #This is the constructor method, which initializes\n",
        "                               # a new instance of the SimpleDataFrame class.\n",
        "   self.data = data\n",
        "   self.columns = list(data.keys())  #Keys are column names.\n",
        "                                     #Values are lists representing the data in those columns.\n",
        "\n",
        "   self.rows = len(next(iter(data.values()))) #data.values() retrieves the lists (column data) from the dictionary.\n",
        "                                              #next(iter(data.values())) fetches the first column's list to determine its length (assuming all columns have the same length).\n",
        "                                               #len(...) calculates the number of rows.\n",
        "\n",
        "\n",
        "\n",
        "  def display(self): # Define the display method to print the data in a tabular format\n",
        "    # Print header\n",
        "    print(\" | \".join(self.columns)) #A list of column names in the DataFrame.\n",
        "    #Joins the column names with \" | \" as a separator to create a single string.\n",
        "    print(\"-\" * (sum(len(col) for col in self.columns) + 3 * len(self.columns)))\n",
        "          #Calculates the length of each column name.\n",
        "    # Print rows\n",
        "    for i in range(self.rows):\n",
        "        row_data = [str(self.data[col][i]) for col in self.columns]\n",
        "        print(\" | \".join(row_data))\n",
        "\n",
        "\n",
        "\n",
        "  def select_columns(self, *cols):   #The *cols parameter allows the method to accept a variable\n",
        "                                    # number of column names as arguments\n",
        "        \"\"\"\n",
        "        Select specific columns and return a new DataFrame.\n",
        "        \"\"\"\n",
        "        # Validate that all requested columns exist in the DataFrame\n",
        "        for col in cols:\n",
        "            if col not in self.columns:  #Checks whether each column name (col) exists in the list of available columns (self.columns) of the DataFrame.\n",
        "\n",
        "                raise ValueError(f\"Column '{col}' does not exist in the DataFrame.\")\n",
        "            #If a column name in cols is not found in self.columns, a ValueError is raised.\n",
        "\n",
        "        # Create a new DataFrame with the selected columns\n",
        "        selected_data = {col: self.data[col] for col in cols} #Constructs a new dictionary called selected_data.\n",
        "        return SimpleDataFrame(selected_data)\n",
        "\n",
        "\n",
        "\n",
        "  def filter_rows(self, condition):#The filter_rows method allows you to filter\n",
        "                   #rows in the SimpleDataFrame based on a specified condition.\n",
        "        \"\"\"\n",
        "        Filter rows based on a condition function.\n",
        "        The condition is a lambda function that operates on rows as dictionaries.\n",
        "        \"\"\"\n",
        "        filtered_indices = [i for i in range(self.rows) if condition({col: self.data[col][i] for col in self.columns})]\n",
        "         #for col in self.columns:\n",
        "           #Iterates through each column name in the DataFrame\n",
        "        #Calls the condition function with the row dictionary as input.\n",
        "        filtered_data = {col: [self.data[col][i] for i in filtered_indices] for col in self.columns}\n",
        "        return SimpleDataFrame(filtered_data) #Wraps the filtered_data dictionary in a new SimpleDataFrame instance.\n",
        "\n",
        "\n",
        "\n",
        "  def add_column(self, column_name, values):\n",
        "        \"\"\"\n",
        "        Add a new column to the DataFrame.\n",
        "        \"\"\"\n",
        "        if len(values) != self.rows:  #len(values) Computes the length of the values list\n",
        "            raise ValueError(\"Length of new column must match number of rows.\")\n",
        "        self.data[column_name] = values  #Adds the new column to the self.data dictionary.\n",
        "        self.columns.append(column_name)\n",
        "\n",
        "\n",
        "  def summarize(self):\n",
        "        \"\"\"\n",
        "        Display basic summary statistics for numeric columns.\n",
        "        \"\"\"\n",
        "        print(\"Summary Statistics:\")\n",
        "        for col in self.columns:\n",
        "            if isinstance(self.data[col][0], (int, float)):\n",
        "      #Fetches the first value of the current column to check its type.\n",
        "      #Checks if the first value is either an integer (int) or a floating-point number (float).\n",
        "                col_data = self.data[col]\n",
        "                print(f\"{col} - Min: {min(col_data)}, Max: {max(col_data)}, Avg: {sum(col_data) / len(col_data)}\")\n",
        "                #max(col_data): Finds the largest value in the column.\n",
        "                #min(col_data): Finds the smallest value in the column\n",
        "                #sum(col_data): Adds all numeric values in the column.\n",
        "                #len(col_data): Counts the number of values in the column.\n",
        "        print()\n"
      ],
      "metadata": {
        "id": "_J6DZg9l5b6E"
      },
      "execution_count": null,
      "outputs": []
    },
    {
      "cell_type": "code",
      "source": [
        "# Sample data\n",
        "data = {\n",
        "    \"Name\": [\"Alice\", \"Bob\", \"Charlie\", \"Diana\", \"Eve\"],\n",
        "    \"Age\": [24, 27, 22, 32, 29],\n",
        "    \"Salary\": [50000, 60000, 55000, 65000, 70000]\n",
        "}\n",
        "\n",
        "# Initialize the DataFrame\n",
        "df = SimpleDataFrame(data)\n",
        "\n",
        "# Display the data\n",
        "print(\"Initial DataFrame:\")\n",
        "df.display()\n",
        "# Select specific columns\n",
        "selected_df = df.select_columns(\"Name\", \"Salary\")\n",
        "print(\"Selected Columns:\")\n",
        "selected_df.display()\n",
        "# Filter rows where Salary > 55000\n",
        "filtered_df = df.filter_rows(lambda row: row[\"Salary\"] > 55000)\n",
        "print(\"Filtered Rows (Salary > 55000):\")\n",
        "filtered_df.display()\n",
        "# Add a new column for Bonus (10% of Salary)\n",
        "df.add_column(\"Bonus\", [sal * 0.10 for sal in df.data[\"Salary\"]])\n",
        "print(\"DataFrame After Adding 'Bonus' Column:\")\n",
        "df.display()\n",
        "# Summarize numeric columns\n",
        "df.summarize()\n"
      ],
      "metadata": {
        "colab": {
          "base_uri": "https://localhost:8080/"
        },
        "id": "JUdPS2FTNHfP",
        "outputId": "8c62af34-5811-4730-c37c-deb4532435d2"
      },
      "execution_count": null,
      "outputs": [
        {
          "output_type": "stream",
          "name": "stdout",
          "text": [
            "Initial DataFrame:\n",
            "Name | Age | Salary\n",
            "----------------------\n",
            "Alice | 24 | 50000\n",
            "Bob | 27 | 60000\n",
            "Charlie | 22 | 55000\n",
            "Diana | 32 | 65000\n",
            "Eve | 29 | 70000\n",
            "Selected Columns:\n",
            "Name | Salary\n",
            "----------------\n",
            "Alice | 50000\n",
            "Bob | 60000\n",
            "Charlie | 55000\n",
            "Diana | 65000\n",
            "Eve | 70000\n",
            "Filtered Rows (Salary > 55000):\n",
            "Name | Age | Salary\n",
            "----------------------\n",
            "Bob | 27 | 60000\n",
            "Diana | 32 | 65000\n",
            "Eve | 29 | 70000\n",
            "DataFrame After Adding 'Bonus' Column:\n",
            "Name | Age | Salary | Bonus\n",
            "------------------------------\n",
            "Alice | 24 | 50000 | 5000.0\n",
            "Bob | 27 | 60000 | 6000.0\n",
            "Charlie | 22 | 55000 | 5500.0\n",
            "Diana | 32 | 65000 | 6500.0\n",
            "Eve | 29 | 70000 | 7000.0\n",
            "Summary Statistics:\n",
            "Age - Min: 22, Max: 32, Avg: 26.8\n",
            "Salary - Min: 50000, Max: 70000, Avg: 60000.0\n",
            "Bonus - Min: 5000.0, Max: 7000.0, Avg: 6000.0\n",
            "\n"
          ]
        }
      ]
    },
    {
      "cell_type": "code",
      "source": [],
      "metadata": {
        "id": "-VeXao1EToFl"
      },
      "execution_count": null,
      "outputs": []
    }
  ]
}